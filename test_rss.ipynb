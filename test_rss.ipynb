{
 "cells": [
  {
   "cell_type": "code",
   "execution_count": 7,
   "id": "44ee1063",
   "metadata": {},
   "outputs": [
    {
     "name": "stdout",
     "output_type": "stream",
     "text": [
      "dict_keys(['title', 'link', 'published', 'summary'])\n"
     ]
    }
   ],
   "source": [
    "import feedparser\n",
    "\n",
    "def get_rss_updates(rss_url):\n",
    "    feed = feedparser.parse(rss_url)\n",
    "    updates = []\n",
    "    for entry in feed.entries:\n",
    "        updates.append({\n",
    "            'title': entry.get('title', ''),\n",
    "            'link': entry.get('link', ''),\n",
    "            'published': entry.get('published', ''),\n",
    "            'summary': entry.get('summary', '')\n",
    "        })\n",
    "    return updates\n",
    "\n",
    "# Example usage:\n",
    "# rss_url = 'https://rss.arxiv.org/rss/cs'\n",
    "rss_url= 'https://www.science.org/action/showFeed?type=etoc&feed=rss&jc=science'\n",
    "updates = get_rss_updates(rss_url)\n",
    "print(updates[0].keys())"
   ]
  }
 ],
 "metadata": {
  "kernelspec": {
   "display_name": "stpy",
   "language": "python",
   "name": "python3"
  },
  "language_info": {
   "codemirror_mode": {
    "name": "ipython",
    "version": 3
   },
   "file_extension": ".py",
   "mimetype": "text/x-python",
   "name": "python",
   "nbconvert_exporter": "python",
   "pygments_lexer": "ipython3",
   "version": "3.12.2"
  }
 },
 "nbformat": 4,
 "nbformat_minor": 5
}
